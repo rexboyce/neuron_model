{
  "nbformat": 4,
  "nbformat_minor": 0,
  "metadata": {
    "kernelspec": {
      "display_name": "Python 3",
      "language": "python",
      "name": "python3"
    },
    "language_info": {
      "codemirror_mode": {
        "name": "ipython",
        "version": 3
      },
      "file_extension": ".py",
      "mimetype": "text/x-python",
      "name": "python",
      "nbconvert_exporter": "python",
      "pygments_lexer": "ipython3",
      "version": "3.7.6"
    },
    "colab": {
      "name": "initial_predictions.ipynb",
      "provenance": []
    }
  },
  "cells": [
    {
      "cell_type": "markdown",
      "metadata": {
        "id": "DoOd4bhDjXXV"
      },
      "source": [
        "## Intro to the Hodgkin Huxley Model using Python\n",
        "\n",
        "https://hodgkin-huxley-tutorial.readthedocs.io/en/latest/_static/Hodgkin%20Huxley.html"
      ]
    },
    {
      "cell_type": "code",
      "metadata": {
        "id": "LxLhm_JzjXXW",
        "outputId": "5b2b4f0a-fd21-4a13-83a1-783113b28c97",
        "colab": {
          "base_uri": "https://localhost:8080/"
        }
      },
      "source": [
        "import scipy as sp\n",
        "import pylab as plt\n",
        "import numpy as np\n",
        "from scipy.integrate import odeint\n",
        "Z = 10\n",
        "class HodgkinHuxley():\n",
        "    \"\"\"Full Hodgkin-Huxley Model implemented in Python\"\"\"\n",
        "\n",
        "    C_m  =   1.0\n",
        "    \"\"\"membrane capacitance, in uF/cm^2\"\"\"\n",
        "\n",
        "    g_Na = 120.0\n",
        "    \"\"\"Sodium (Na) maximum conductances, in mS/cm^2\"\"\"\n",
        "\n",
        "    g_K  =  36.0\n",
        "    \"\"\"Postassium (K) maximum conductances, in mS/cm^2\"\"\"\n",
        "\n",
        "    g_L  =   0.3\n",
        "    \"\"\"Leak maximum conductances, in mS/cm^2\"\"\"\n",
        "\n",
        "    E_Na =  50.0\n",
        "    \"\"\"Sodium (Na) Nernst reversal potentials, in mV\"\"\"\n",
        "\n",
        "    E_K  = -77.0\n",
        "    \"\"\"Postassium (K) Nernst reversal potentials, in mV\"\"\"\n",
        "\n",
        "    E_L  = -54.387\n",
        "    \"\"\"Leak Nernst reversal potentials, in mV\"\"\"\n",
        "\n",
        "    t = sp.arange(0.0, 450.0, 0.01)\n",
        "    \"\"\" The time to integrate over \"\"\"\n",
        "\n",
        "#    def o(self, V):\n",
        "#        return int(V > -55)\n",
        "#    def o(self, V):\n",
        "#        return 1/(1+np.e**(-Z*(V+55)))\n",
        "    def o(self, V):\n",
        "        return 1/(np.sqrt(2*np.pi))* np.exp(-1* (V +55)**2 / (2*1))\n",
        "\n",
        "#    def d(self, V):\n",
        "#        return int(V > 30)\n",
        "    def d(self, V):\n",
        "        return 1/(1+np.e**(-Z*(V-30)))\n",
        "#    def d(self, V):\n",
        "#        return 1/(np.sqrt(2*np.pi))* np.exp(-1* (V - 30)**2 / (2*1))\n",
        "\n",
        "    def r(self, V):\n",
        "        return int(V < -65)\n",
        "#    def r(self, V):\n",
        "#        return 1/(1+np.e**(-Z*(V+65)))\n",
        "#    def r(self, V):\n",
        "#        return 1/(np.sqrt(2*np.pi))* np.exp(-1* (V +65)**2 / (2*1))\n",
        "\n",
        "\n",
        "    def alpha_n(self, V):\n",
        "        \"\"\"Channel gating kinetics. Functions of membrane voltage\"\"\"\n",
        "        return 0.01*(V+55.0)/(1.0 - sp.exp(-(V+55.0) / 10.0))\n",
        "\n",
        "    def beta_n(self, V):\n",
        "        \"\"\"Channel gating kinetics. Functions of membrane voltage\"\"\"\n",
        "        return 0.125*sp.exp(-(V+65) / 80.0)\n",
        "\n",
        "    def I_Na(self, V, c, h):\n",
        "        \"\"\"\n",
        "        Membrane current (in uA/cm^2)\n",
        "        Sodium (Na = element name)\n",
        "        \"\"\"\n",
        "        return self.g_Na * (1 - c - h) * (V - self.E_Na)\n",
        "\n",
        "    def I_K(self, V, n):\n",
        "        \"\"\"\n",
        "        Membrane current (in uA/cm^2)\n",
        "        Potassium (K = element name)\n",
        "\n",
        "        |  :param V:\n",
        "        |  :param h:\n",
        "        |  :return:\n",
        "        \"\"\"\n",
        "        return self.g_K  * n**4 * (V - self.E_K)\n",
        "    \n",
        "    #  Leak\n",
        "    def I_L(self, V):\n",
        "        \"\"\"\n",
        "        Membrane current (in uA/cm^2)\n",
        "        Leak\n",
        "\n",
        "        |  :param V:\n",
        "        |  :param h:\n",
        "        |  :return:\n",
        "        \"\"\"\n",
        "        return self.g_L * (V - self.E_L)\n",
        "\n",
        "    def I_inj(self, t):\n",
        "        \"\"\"\n",
        "        External Current\n",
        "\n",
        "        |  :param t: time\n",
        "        |  :return: step up to 10 uA/cm^2 at t>100\n",
        "        |           step down to 0 uA/cm^2 at t>200\n",
        "        |           step up to 35 uA/cm^2 at t>300\n",
        "        |           step down to 0 uA/cm^2 at t>400\n",
        "        \"\"\"\n",
        "        return 10*(t>100) - 10*(t>200) + 35*(t>300) - 35*(t>400)\n",
        "\n",
        "    @staticmethod\n",
        "    def dALLdt(X, t, self):\n",
        "        \"\"\"\n",
        "        Integrate\n",
        "\n",
        "        |  :param X:\n",
        "        |  :param t:\n",
        "        |  :return: calculate membrane potential & activation variables\n",
        "        \"\"\"\n",
        "        V, c, h, n = X\n",
        "\n",
        "        dVdt = (self.I_inj(t) - self.I_Na(V, c, h) - self.I_K(V, n) - self.I_L(V)) / self.C_m\n",
        "        \n",
        "        # our new SIR model\n",
        "        dcdt = self.r(V)*h - self.o(V)*c\n",
        "        dhdt = self.d(V)*(1 - c - h) - self.r(V)*h\n",
        "        \n",
        "        dndt = self.alpha_n(V)*(1.0-n) - self.beta_n(V)*n\n",
        "        return dVdt, dcdt, dhdt, dndt\n",
        "\n",
        "    def Main(self):\n",
        "        \"\"\"\n",
        "        Main demo for the Hodgkin Huxley neuron model\n",
        "        \"\"\"\n",
        "        # TODO: new initial conditions\n",
        "        X = odeint(self.dALLdt, [-65, 1, 0, 0.32], self.t, args=(self,))\n",
        "        \n",
        "        V = X[:,0]\n",
        "        c = X[:,1]\n",
        "        h = X[:,2]\n",
        "        n = X[:,3]\n",
        "        \n",
        "        ina = self.I_Na(V, c, h)\n",
        "        ik = self.I_K(V, n)\n",
        "        il = self.I_L(V)\n",
        "\n",
        "        plt.figure()\n",
        "\n",
        "        plt.subplot(4,1,1)\n",
        "        plt.title('Hodgkin-Huxley Neuron')\n",
        "        plt.plot(self.t, V, 'k')\n",
        "        plt.ylabel('V (mV)')\n",
        "\n",
        "        plt.subplot(4,1,2)\n",
        "        plt.plot(self.t, ina, 'c', label='$I_{Na}$')\n",
        "        plt.plot(self.t, ik, 'y', label='$I_{K}$')\n",
        "        plt.plot(self.t, il, 'm', label='$I_{L}$')\n",
        "        plt.ylabel('Current')\n",
        "        plt.legend()\n",
        "\n",
        "        plt.subplot(4,1,3)\n",
        "        plt.plot(self.t, c, 'r', label='c')\n",
        "        plt.plot(self.t, h, 'g', label='h')\n",
        "        plt.plot(self.t, 1 - c - h, 'y', label='m')\n",
        "        plt.plot(self.t, n, 'b', label='n')\n",
        "        plt.ylabel('Gating Value')\n",
        "        plt.legend()\n",
        "\n",
        "        plt.subplot(4,1,4)\n",
        "        i_inj_values = [self.I_inj(t) for t in self.t]\n",
        "        plt.plot(self.t, i_inj_values, 'k')\n",
        "        plt.xlabel('t (ms)')\n",
        "        plt.ylabel('$I_{inj}$ ($\\\\mu{A}/cm^2$)')\n",
        "        plt.ylim(-1, 40)\n",
        "\n",
        "        plt.show()"
      ],
      "execution_count": 28,
      "outputs": [
        {
          "output_type": "stream",
          "text": [
            "/usr/local/lib/python3.6/dist-packages/ipykernel_launcher.py:30: DeprecationWarning: scipy.arange is deprecated and will be removed in SciPy 2.0.0, use numpy.arange instead\n"
          ],
          "name": "stderr"
        }
      ]
    },
    {
      "cell_type": "code",
      "metadata": {
        "id": "FzBT03k-jXXZ",
        "outputId": "0db94922-fb24-4e9d-b0ef-c9f4966d652d",
        "colab": {
          "base_uri": "https://localhost:8080/",
          "height": 347
        }
      },
      "source": [
        "runner = HodgkinHuxley()\n",
        "runner.Main()"
      ],
      "execution_count": 29,
      "outputs": [
        {
          "output_type": "stream",
          "text": [
            "/usr/local/lib/python3.6/dist-packages/ipykernel_launcher.py:43: RuntimeWarning: overflow encountered in double_scalars\n",
            "/usr/local/lib/python3.6/dist-packages/ipykernel_launcher.py:57: DeprecationWarning: scipy.exp is deprecated and will be removed in SciPy 2.0.0, use numpy.exp instead\n",
            "/usr/local/lib/python3.6/dist-packages/ipykernel_launcher.py:61: DeprecationWarning: scipy.exp is deprecated and will be removed in SciPy 2.0.0, use numpy.exp instead\n"
          ],
          "name": "stderr"
        },
        {
          "output_type": "display_data",
          "data": {
            "image/png": "[encoded data removed]",
            "text/plain": [
              "<Figure size 432x288 with 4 Axes>"
            ]
          },
          "metadata": {
            "tags": [],
            "needs_background": "light"
          }
        }
      ]
    },
    {
      "cell_type": "code",
      "metadata": {
        "id": "zzW7AC6TjXXd"
      },
      "source": [
        ""
      ],
      "execution_count": 29,
      "outputs": []
    }
  ]
}