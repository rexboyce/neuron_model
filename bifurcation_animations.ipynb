{
 "cells": [
  {
   "cell_type": "markdown",
   "metadata": {
    "id": "DoOd4bhDjXXV"
   },
   "source": [
    "## SIR-like adaption of the hodgkin huxley neuron Model\n",
    "\n",
    "### ACME Volume 4 Project: Rex Boyce, Daniel Christiensen, Ed Ringger, Stephen Yacktman\n",
    "\n",
    "### This code was adapted from this \"Intro to the Hodgkin Huxley Model using Python\" code found online at the following link: \n",
    "\n",
    "https://hodgkin-huxley-tutorial.readthedocs.io/en/latest/_static/Hodgkin%20Huxley.html"
   ]
  },
  {
   "cell_type": "code",
   "execution_count": 1,
   "metadata": {},
   "outputs": [],
   "source": [
    "import scipy as sp\n",
    "import pylab as plt\n",
    "import numpy as np\n",
    "from scipy.integrate import odeint\n",
    "from matplotlib import animation\n",
    "\n",
    "plt.rcParams[\"figure.figsize\"] = (20, 14)\n",
    "Z = 10\n",
    "\n",
    "%matplotlib inline"
   ]
  },
  {
   "cell_type": "code",
   "execution_count": 2,
   "metadata": {},
   "outputs": [],
   "source": [
    "def make_movie(U, x, titles, name, xlim=(0,450), ylim=(-70,50), interval=10):\n",
    "    fig = plt.figure()\n",
    "    ax = fig.add_subplot(111)\n",
    "    ax.set_xlim(xlim)\n",
    "    ax.set_ylim(ylim)\n",
    "    sol, = ax.plot([],[])\n",
    "    def update(i):\n",
    "        sol.set_data(x,U[i])\n",
    "        ax.set_title(f\"{round(titles[i], 4)} nA\")\n",
    "        return sol\n",
    "    ani = animation.FuncAnimation(fig, update, frames=range(len(U)), interval=interval)\n",
    "    ani.save(name)"
   ]
  },
  {
   "cell_type": "code",
   "execution_count": 3,
   "metadata": {
    "colab": {
     "base_uri": "https://localhost:8080/"
    },
    "id": "LxLhm_JzjXXW",
    "outputId": "5b2b4f0a-fd21-4a13-83a1-783113b28c97"
   },
   "outputs": [],
   "source": [
    "\n",
    "class HodgkinHuxley():\n",
    "    \"\"\"Full Modified Hodgkin-Huxley Model implemented in Python\"\"\"\n",
    "\n",
    "    C_m  =   1.0\n",
    "    \"\"\"membrane capacitance, in uF/cm^2\"\"\"\n",
    "\n",
    "    g_Na = 120.0\n",
    "    \"\"\"Sodium (Na) maximum conductances, in mS/cm^2\"\"\"\n",
    "\n",
    "    g_K  =  36.0\n",
    "    \"\"\"Postassium (K) maximum conductances, in mS/cm^2\"\"\"\n",
    "\n",
    "    g_L  =   0.3\n",
    "    \"\"\"Leak maximum conductances, in mS/cm^2\"\"\"\n",
    "\n",
    "    E_Na =  50.0\n",
    "    \"\"\"Sodium (Na) Nernst reversal potentials, in mV\"\"\"\n",
    "\n",
    "    E_K  = -77.0\n",
    "    \"\"\"Postassium (K) Nernst reversal potentials, in mV\"\"\"\n",
    "\n",
    "    E_L  = -54.387\n",
    "    \"\"\"Leak Nernst reversal potentials, in mV\"\"\"\n",
    "\n",
    "    t = np.arange(0.0, 450.0, 0.01)\n",
    "    \"\"\" The time to integrate over \"\"\"\n",
    "\n",
    "    def o(self, V, scalar=0.75):\n",
    "        return (np.tanh((V + 55) * scalar) / 2) + 0.5\n",
    "\n",
    "    def d(self, V, scalar=0.75):\n",
    "        return 1\n",
    "\n",
    "    def r(self, V):\n",
    "        return int(V < -65)\n",
    "\n",
    "    def alpha_n(self, V):\n",
    "        \"\"\"Channel gating kinetics. Functions of membrane voltage\"\"\"\n",
    "        return 0.01*(V+55.0)/(1.0 - np.exp(-(V+55.0) / 10.0))\n",
    "\n",
    "    def beta_n(self, V):\n",
    "        \"\"\"Channel gating kinetics. Functions of membrane voltage\"\"\"\n",
    "        return 0.125*np.exp(-(V+65) / 80.0)\n",
    "\n",
    "    def I_Na(self, V, c, h):\n",
    "        \"\"\"\n",
    "        Membrane current (in uA/cm^2)\n",
    "        Sodium (Na = element name)\n",
    "        \"\"\"\n",
    "        return self.g_Na * (1 - c - h) * (V - self.E_Na)\n",
    "\n",
    "    def I_K(self, V, n):\n",
    "        \"\"\"\n",
    "        Membrane current (in uA/cm^2)\n",
    "        Potassium (K = element name)\n",
    "\n",
    "        |  :param V:\n",
    "        |  :param h:\n",
    "        |  :return:\n",
    "        \"\"\"\n",
    "        return self.g_K  * n**4 * (V - self.E_K)\n",
    "    \n",
    "    #  Leak\n",
    "    def I_L(self, V):\n",
    "        \"\"\"\n",
    "        Membrane current (in uA/cm^2)\n",
    "        Leak\n",
    "\n",
    "        |  :param V:\n",
    "        |  :param h:\n",
    "        |  :return:\n",
    "        \"\"\"\n",
    "        return self.g_L * (V - self.E_L)\n",
    "\n",
    "    def get_dALLdt(self, inj):\n",
    "        def dALLdt(X, t):\n",
    "            \"\"\"\n",
    "            Integrate\n",
    "\n",
    "            |  :param X:\n",
    "            |  :param t:\n",
    "            |  :return: calculate membrane potential & activation variables\n",
    "            \"\"\"\n",
    "            V, c, h, n = X\n",
    "\n",
    "            dVdt = (inj - self.I_Na(V, c, h) - self.I_K(V, n) - self.I_L(V)) / self.C_m\n",
    "\n",
    "            # our new SIR model\n",
    "            dcdt = self.r(V)*h - self.o(V)*c\n",
    "            dhdt = self.d(V)*(1 - c - h) - self.r(V)*h\n",
    "\n",
    "            dndt = self.alpha_n(V)*(1.0-n) - self.beta_n(V)*n\n",
    "            return dVdt, dcdt, dhdt, dndt\n",
    "        return dALLdt\n",
    "\n",
    "    def Main(self):\n",
    "        \"\"\"\n",
    "        Main demo for our altered Hodgkin Huxley neuron model\n",
    "        \"\"\"\n",
    "        U = []\n",
    "        injs = np.concatenate((np.linspace(0, 10, 100), np.linspace(10, 40, 100)))\n",
    "        for inj in injs:\n",
    "            U.append(odeint(self.get_dALLdt(inj), [-65, 1, 0, 0.32], self.t)[:,0])\n",
    "\n",
    "        make_movie(U, self.t, injs, 'bifurcation_animation.mp4', interval=50)"
   ]
  },
  {
   "cell_type": "code",
   "execution_count": 4,
   "metadata": {
    "colab": {
     "base_uri": "https://localhost:8080/",
     "height": 347
    },
    "id": "FzBT03k-jXXZ",
    "outputId": "0db94922-fb24-4e9d-b0ef-c9f4966d652d"
   },
   "outputs": [
    {
     "data": {
      "image/png": "[encoded data removed]",
      "text/plain": [
       "<Figure size 432x288 with 1 Axes>"
      ]
     },
     "metadata": {
      "needs_background": "light"
     },
     "output_type": "display_data"
    }
   ],
   "source": [
    "runner = HodgkinHuxley()\n",
    "runner.Main()"
   ]
  },
  {
   "cell_type": "markdown",
   "metadata": {
    "id": "zzW7AC6TjXXd"
   },
   "source": [
    "<video src='bifurcation_animation.mp4' controls>"
   ]
  },
  {
   "cell_type": "code",
   "execution_count": null,
   "metadata": {},
   "outputs": [],
   "source": []
  }
 ],
 "metadata": {
  "colab": {
   "name": "initial_predictions.ipynb",
   "provenance": []
  },
  "kernelspec": {
   "display_name": "Python 3",
   "language": "python",
   "name": "python3"
  },
  "language_info": {
   "codemirror_mode": {
    "name": "ipython",
    "version": 3
   },
   "file_extension": ".py",
   "mimetype": "text/x-python",
   "name": "python",
   "nbconvert_exporter": "python",
   "pygments_lexer": "ipython3",
   "version": "3.7.6"
  }
 },
 "nbformat": 4,
 "nbformat_minor": 1
}
